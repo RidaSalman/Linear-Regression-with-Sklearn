{
 "cells": [
  {
   "cell_type": "code",
   "execution_count": 1,
   "id": "6ff23739",
   "metadata": {},
   "outputs": [
    {
     "name": "stdout",
     "output_type": "stream",
     "text": [
      "Collecting sklearn\n",
      "  Downloading sklearn-0.0.post1.tar.gz (3.6 kB)\n",
      "Building wheels for collected packages: sklearn\n",
      "  Building wheel for sklearn (setup.py): started\n",
      "  Building wheel for sklearn (setup.py): finished with status 'done'\n",
      "  Created wheel for sklearn: filename=sklearn-0.0.post1-py3-none-any.whl size=2959 sha256=71666a83fcb2e81c12b84bb035bf990ea38cb543dd794aaf7a40563babe02a1c\n",
      "  Stored in directory: c:\\users\\srt\\appdata\\local\\pip\\cache\\wheels\\f8\\e0\\3d\\9d0c2020c44a519b9f02ab4fa6d2a4a996c98d79ab2f569fa1\n",
      "Successfully built sklearn\n",
      "Installing collected packages: sklearn\n",
      "Successfully installed sklearn-0.0.post1\n"
     ]
    }
   ],
   "source": [
    "!pip install sklearn"
   ]
  },
  {
   "cell_type": "code",
   "execution_count": 2,
   "id": "208af91b",
   "metadata": {},
   "outputs": [],
   "source": [
    "import matplotlib.pyplot as plt\n",
    "import numpy as np \n",
    "from sklearn import datasets, linear_model\n",
    "\n"
   ]
  },
  {
   "cell_type": "code",
   "execution_count": 23,
   "id": "f2a12d54",
   "metadata": {},
   "outputs": [],
   "source": [
    "from sklearn.metrics import mean_squared_error"
   ]
  },
  {
   "cell_type": "code",
   "execution_count": 26,
   "id": "96981941",
   "metadata": {},
   "outputs": [],
   "source": [
    "diabetes = datasets.load_diabetes()\n",
    "#['data', 'target', 'frame', 'DESCR', 'feature_names', 'data_filename', 'target_filename', 'data_module']"
   ]
  },
  {
   "cell_type": "code",
   "execution_count": 27,
   "id": "dd3092be",
   "metadata": {},
   "outputs": [
    {
     "name": "stdout",
     "output_type": "stream",
     "text": [
      "dict_keys(['data', 'target', 'frame', 'DESCR', 'feature_names', 'data_filename', 'target_filename', 'data_module'])\n"
     ]
    }
   ],
   "source": [
    "print(diabetes.keys())"
   ]
  },
  {
   "cell_type": "code",
   "execution_count": 28,
   "id": "a4f15511",
   "metadata": {},
   "outputs": [
    {
     "name": "stdout",
     "output_type": "stream",
     "text": [
      "[[ 0.03807591  0.05068012  0.06169621 ... -0.00259226  0.01990842\n",
      "  -0.01764613]\n",
      " [-0.00188202 -0.04464164 -0.05147406 ... -0.03949338 -0.06832974\n",
      "  -0.09220405]\n",
      " [ 0.08529891  0.05068012  0.04445121 ... -0.00259226  0.00286377\n",
      "  -0.02593034]\n",
      " ...\n",
      " [ 0.04170844  0.05068012 -0.01590626 ... -0.01107952 -0.04687948\n",
      "   0.01549073]\n",
      " [-0.04547248 -0.04464164  0.03906215 ...  0.02655962  0.04452837\n",
      "  -0.02593034]\n",
      " [-0.04547248 -0.04464164 -0.0730303  ... -0.03949338 -0.00421986\n",
      "   0.00306441]]\n"
     ]
    }
   ],
   "source": [
    "print(diabetes.data)"
   ]
  },
  {
   "cell_type": "code",
   "execution_count": 29,
   "id": "b2c3cbca",
   "metadata": {},
   "outputs": [
    {
     "name": "stdout",
     "output_type": "stream",
     "text": [
      ".. _diabetes_dataset:\n",
      "\n",
      "Diabetes dataset\n",
      "----------------\n",
      "\n",
      "Ten baseline variables, age, sex, body mass index, average blood\n",
      "pressure, and six blood serum measurements were obtained for each of n =\n",
      "442 diabetes patients, as well as the response of interest, a\n",
      "quantitative measure of disease progression one year after baseline.\n",
      "\n",
      "**Data Set Characteristics:**\n",
      "\n",
      "  :Number of Instances: 442\n",
      "\n",
      "  :Number of Attributes: First 10 columns are numeric predictive values\n",
      "\n",
      "  :Target: Column 11 is a quantitative measure of disease progression one year after baseline\n",
      "\n",
      "  :Attribute Information:\n",
      "      - age     age in years\n",
      "      - sex\n",
      "      - bmi     body mass index\n",
      "      - bp      average blood pressure\n",
      "      - s1      tc, total serum cholesterol\n",
      "      - s2      ldl, low-density lipoproteins\n",
      "      - s3      hdl, high-density lipoproteins\n",
      "      - s4      tch, total cholesterol / HDL\n",
      "      - s5      ltg, possibly log of serum triglycerides level\n",
      "      - s6      glu, blood sugar level\n",
      "\n",
      "Note: Each of these 10 feature variables have been mean centered and scaled by the standard deviation times `n_samples` (i.e. the sum of squares of each column totals 1).\n",
      "\n",
      "Source URL:\n",
      "https://www4.stat.ncsu.edu/~boos/var.select/diabetes.html\n",
      "\n",
      "For more information see:\n",
      "Bradley Efron, Trevor Hastie, Iain Johnstone and Robert Tibshirani (2004) \"Least Angle Regression,\" Annals of Statistics (with discussion), 407-499.\n",
      "(https://web.stanford.edu/~hastie/Papers/LARS/LeastAngle_2002.pdf)\n"
     ]
    }
   ],
   "source": [
    "print(diabetes.DESCR)"
   ]
  },
  {
   "cell_type": "code",
   "execution_count": 30,
   "id": "170fccf3",
   "metadata": {},
   "outputs": [
    {
     "name": "stdout",
     "output_type": "stream",
     "text": [
      "[151.  75. 141. 206. 135.  97. 138.  63. 110. 310. 101.  69. 179. 185.\n",
      " 118. 171. 166. 144.  97. 168.  68.  49.  68. 245. 184. 202. 137.  85.\n",
      " 131. 283. 129.  59. 341.  87.  65. 102. 265. 276. 252.  90. 100.  55.\n",
      "  61.  92. 259.  53. 190. 142.  75. 142. 155. 225.  59. 104. 182. 128.\n",
      "  52.  37. 170. 170.  61. 144.  52. 128.  71. 163. 150.  97. 160. 178.\n",
      "  48. 270. 202. 111.  85.  42. 170. 200. 252. 113. 143.  51.  52. 210.\n",
      "  65. 141.  55. 134.  42. 111.  98. 164.  48.  96.  90. 162. 150. 279.\n",
      "  92.  83. 128. 102. 302. 198.  95.  53. 134. 144. 232.  81. 104.  59.\n",
      " 246. 297. 258. 229. 275. 281. 179. 200. 200. 173. 180.  84. 121. 161.\n",
      "  99. 109. 115. 268. 274. 158. 107.  83. 103. 272.  85. 280. 336. 281.\n",
      " 118. 317. 235.  60. 174. 259. 178. 128.  96. 126. 288.  88. 292.  71.\n",
      " 197. 186.  25.  84.  96. 195.  53. 217. 172. 131. 214.  59.  70. 220.\n",
      " 268. 152.  47.  74. 295. 101. 151. 127. 237. 225.  81. 151. 107.  64.\n",
      " 138. 185. 265. 101. 137. 143. 141.  79. 292. 178.  91. 116.  86. 122.\n",
      "  72. 129. 142.  90. 158.  39. 196. 222. 277.  99. 196. 202. 155.  77.\n",
      " 191.  70.  73.  49.  65. 263. 248. 296. 214. 185.  78.  93. 252. 150.\n",
      "  77. 208.  77. 108. 160.  53. 220. 154. 259.  90. 246. 124.  67.  72.\n",
      " 257. 262. 275. 177.  71.  47. 187. 125.  78.  51. 258. 215. 303. 243.\n",
      "  91. 150. 310. 153. 346.  63.  89.  50.  39. 103. 308. 116. 145.  74.\n",
      "  45. 115. 264.  87. 202. 127. 182. 241.  66.  94. 283.  64. 102. 200.\n",
      " 265.  94. 230. 181. 156. 233.  60. 219.  80.  68. 332. 248.  84. 200.\n",
      "  55.  85.  89.  31. 129.  83. 275.  65. 198. 236. 253. 124.  44. 172.\n",
      " 114. 142. 109. 180. 144. 163. 147.  97. 220. 190. 109. 191. 122. 230.\n",
      " 242. 248. 249. 192. 131. 237.  78. 135. 244. 199. 270. 164.  72.  96.\n",
      " 306.  91. 214.  95. 216. 263. 178. 113. 200. 139. 139.  88. 148.  88.\n",
      " 243.  71.  77. 109. 272.  60.  54. 221.  90. 311. 281. 182. 321.  58.\n",
      " 262. 206. 233. 242. 123. 167.  63. 197.  71. 168. 140. 217. 121. 235.\n",
      " 245.  40.  52. 104. 132.  88.  69. 219.  72. 201. 110.  51. 277.  63.\n",
      " 118.  69. 273. 258.  43. 198. 242. 232. 175.  93. 168. 275. 293. 281.\n",
      "  72. 140. 189. 181. 209. 136. 261. 113. 131. 174. 257.  55.  84.  42.\n",
      " 146. 212. 233.  91. 111. 152. 120.  67. 310.  94. 183.  66. 173.  72.\n",
      "  49.  64.  48. 178. 104. 132. 220.  57.]\n"
     ]
    }
   ],
   "source": [
    "print(diabetes.target)"
   ]
  },
  {
   "cell_type": "code",
   "execution_count": 31,
   "id": "c950e3ac",
   "metadata": {},
   "outputs": [
    {
     "name": "stdout",
     "output_type": "stream",
     "text": [
      "None\n"
     ]
    }
   ],
   "source": [
    "print(diabetes.frame)"
   ]
  },
  {
   "cell_type": "code",
   "execution_count": 32,
   "id": "2a9c2b95",
   "metadata": {},
   "outputs": [
    {
     "name": "stdout",
     "output_type": "stream",
     "text": [
      "['age', 'sex', 'bmi', 'bp', 's1', 's2', 's3', 's4', 's5', 's6']\n"
     ]
    }
   ],
   "source": [
    "print(diabetes.feature_names)"
   ]
  },
  {
   "cell_type": "code",
   "execution_count": 33,
   "id": "115ac28e",
   "metadata": {},
   "outputs": [
    {
     "name": "stdout",
     "output_type": "stream",
     "text": [
      "diabetes_data.csv.gz\n"
     ]
    }
   ],
   "source": [
    "print(diabetes.data_filename)"
   ]
  },
  {
   "cell_type": "code",
   "execution_count": 34,
   "id": "78859aec",
   "metadata": {},
   "outputs": [
    {
     "name": "stdout",
     "output_type": "stream",
     "text": [
      "diabetes_target.csv.gz\n"
     ]
    }
   ],
   "source": [
    "print(diabetes.target_filename)"
   ]
  },
  {
   "cell_type": "code",
   "execution_count": 35,
   "id": "4e51b14e",
   "metadata": {},
   "outputs": [
    {
     "name": "stdout",
     "output_type": "stream",
     "text": [
      "sklearn.datasets.data\n"
     ]
    }
   ],
   "source": [
    "print(diabetes.data_module)"
   ]
  },
  {
   "cell_type": "code",
   "execution_count": 36,
   "id": "c941d232",
   "metadata": {},
   "outputs": [
    {
     "data": {
      "text/plain": [
       "array([[ 0.06169621],\n",
       "       [-0.05147406],\n",
       "       [ 0.04445121],\n",
       "       [-0.01159501],\n",
       "       [-0.03638469],\n",
       "       [-0.04069594],\n",
       "       [-0.04716281],\n",
       "       [-0.00189471],\n",
       "       [ 0.06169621],\n",
       "       [ 0.03906215],\n",
       "       [-0.08380842],\n",
       "       [ 0.01750591],\n",
       "       [-0.02884001],\n",
       "       [-0.00189471],\n",
       "       [-0.02560657],\n",
       "       [-0.01806189],\n",
       "       [ 0.04229559],\n",
       "       [ 0.01211685],\n",
       "       [-0.0105172 ],\n",
       "       [-0.01806189],\n",
       "       [-0.05686312],\n",
       "       [-0.02237314],\n",
       "       [-0.00405033],\n",
       "       [ 0.06061839],\n",
       "       [ 0.03582872],\n",
       "       [-0.01267283],\n",
       "       [-0.07734155],\n",
       "       [ 0.05954058],\n",
       "       [-0.02129532],\n",
       "       [-0.00620595],\n",
       "       [ 0.04445121],\n",
       "       [-0.06548562],\n",
       "       [ 0.12528712],\n",
       "       [-0.05039625],\n",
       "       [-0.06332999],\n",
       "       [-0.03099563],\n",
       "       [ 0.02289497],\n",
       "       [ 0.01103904],\n",
       "       [ 0.07139652],\n",
       "       [ 0.01427248],\n",
       "       [-0.00836158],\n",
       "       [-0.06764124],\n",
       "       [-0.0105172 ],\n",
       "       [-0.02345095],\n",
       "       [ 0.06816308],\n",
       "       [-0.03530688],\n",
       "       [-0.01159501],\n",
       "       [-0.0730303 ],\n",
       "       [-0.04177375],\n",
       "       [ 0.01427248],\n",
       "       [-0.00728377],\n",
       "       [ 0.0164281 ],\n",
       "       [-0.00943939],\n",
       "       [-0.01590626],\n",
       "       [ 0.0250506 ],\n",
       "       [-0.04931844],\n",
       "       [ 0.04121778],\n",
       "       [-0.06332999],\n",
       "       [-0.06440781],\n",
       "       [-0.02560657],\n",
       "       [-0.00405033],\n",
       "       [ 0.00457217],\n",
       "       [-0.00728377],\n",
       "       [-0.0374625 ],\n",
       "       [-0.02560657],\n",
       "       [-0.02452876],\n",
       "       [-0.01806189],\n",
       "       [-0.01482845],\n",
       "       [-0.02991782],\n",
       "       [-0.046085  ],\n",
       "       [-0.06979687],\n",
       "       [ 0.03367309],\n",
       "       [-0.00405033],\n",
       "       [-0.02021751],\n",
       "       [ 0.00241654],\n",
       "       [-0.03099563],\n",
       "       [ 0.02828403],\n",
       "       [-0.03638469],\n",
       "       [-0.05794093],\n",
       "       [-0.0374625 ],\n",
       "       [ 0.01211685],\n",
       "       [-0.02237314],\n",
       "       [-0.03530688],\n",
       "       [ 0.00996123],\n",
       "       [-0.03961813],\n",
       "       [ 0.07139652],\n",
       "       [-0.07518593],\n",
       "       [-0.00620595],\n",
       "       [-0.04069594],\n",
       "       [-0.04824063],\n",
       "       [-0.02560657],\n",
       "       [ 0.0519959 ],\n",
       "       [ 0.00457217],\n",
       "       [-0.06440781],\n",
       "       [-0.01698407],\n",
       "       [-0.05794093],\n",
       "       [ 0.00996123],\n",
       "       [ 0.08864151],\n",
       "       [-0.00512814],\n",
       "       [-0.06440781],\n",
       "       [ 0.01750591],\n",
       "       [-0.04500719],\n",
       "       [ 0.02828403],\n",
       "       [ 0.04121778],\n",
       "       [ 0.06492964],\n",
       "       [-0.03207344],\n",
       "       [-0.07626374],\n",
       "       [ 0.04984027],\n",
       "       [ 0.04552903],\n",
       "       [-0.00943939],\n",
       "       [-0.03207344],\n",
       "       [ 0.00457217],\n",
       "       [ 0.02073935],\n",
       "       [ 0.01427248],\n",
       "       [ 0.11019775],\n",
       "       [ 0.00133873],\n",
       "       [ 0.05846277],\n",
       "       [-0.02129532],\n",
       "       [-0.0105172 ],\n",
       "       [-0.04716281],\n",
       "       [ 0.00457217],\n",
       "       [ 0.01750591],\n",
       "       [ 0.08109682],\n",
       "       [ 0.0347509 ],\n",
       "       [ 0.02397278],\n",
       "       [-0.00836158],\n",
       "       [-0.06117437],\n",
       "       [-0.00189471],\n",
       "       [-0.06225218],\n",
       "       [ 0.0164281 ],\n",
       "       [ 0.09618619],\n",
       "       [-0.06979687],\n",
       "       [-0.02129532],\n",
       "       [-0.05362969],\n",
       "       [ 0.0433734 ],\n",
       "       [ 0.05630715],\n",
       "       [-0.0816528 ],\n",
       "       [ 0.04984027],\n",
       "       [ 0.11127556],\n",
       "       [ 0.06169621],\n",
       "       [ 0.01427248],\n",
       "       [ 0.04768465],\n",
       "       [ 0.01211685],\n",
       "       [ 0.00564998],\n",
       "       [ 0.04660684],\n",
       "       [ 0.12852056],\n",
       "       [ 0.05954058],\n",
       "       [ 0.09295276],\n",
       "       [ 0.01535029],\n",
       "       [-0.00512814],\n",
       "       [ 0.0703187 ],\n",
       "       [-0.00405033],\n",
       "       [-0.00081689],\n",
       "       [-0.04392938],\n",
       "       [ 0.02073935],\n",
       "       [ 0.06061839],\n",
       "       [-0.0105172 ],\n",
       "       [-0.03315126],\n",
       "       [-0.06548562],\n",
       "       [ 0.0433734 ],\n",
       "       [-0.06225218],\n",
       "       [ 0.06385183],\n",
       "       [ 0.03043966],\n",
       "       [ 0.07247433],\n",
       "       [-0.0191397 ],\n",
       "       [-0.06656343],\n",
       "       [-0.06009656],\n",
       "       [ 0.06924089],\n",
       "       [ 0.05954058],\n",
       "       [-0.02668438],\n",
       "       [-0.02021751],\n",
       "       [-0.046085  ],\n",
       "       [ 0.07139652],\n",
       "       [-0.07949718],\n",
       "       [ 0.00996123],\n",
       "       [-0.03854032],\n",
       "       [ 0.01966154],\n",
       "       [ 0.02720622],\n",
       "       [-0.00836158],\n",
       "       [-0.01590626],\n",
       "       [ 0.00457217],\n",
       "       [-0.04285156],\n",
       "       [ 0.00564998],\n",
       "       [-0.03530688],\n",
       "       [ 0.02397278],\n",
       "       [-0.01806189],\n",
       "       [ 0.04229559],\n",
       "       [-0.0547075 ],\n",
       "       [-0.00297252],\n",
       "       [-0.06656343],\n",
       "       [-0.01267283],\n",
       "       [-0.04177375],\n",
       "       [-0.03099563],\n",
       "       [-0.00512814],\n",
       "       [-0.05901875],\n",
       "       [ 0.0250506 ],\n",
       "       [-0.046085  ],\n",
       "       [ 0.00349435],\n",
       "       [ 0.05415152],\n",
       "       [-0.04500719],\n",
       "       [-0.05794093],\n",
       "       [-0.05578531],\n",
       "       [ 0.00133873],\n",
       "       [ 0.03043966],\n",
       "       [ 0.00672779],\n",
       "       [ 0.04660684],\n",
       "       [ 0.02612841],\n",
       "       [ 0.04552903],\n",
       "       [ 0.04013997],\n",
       "       [-0.01806189],\n",
       "       [ 0.01427248],\n",
       "       [ 0.03690653],\n",
       "       [ 0.00349435],\n",
       "       [-0.07087468],\n",
       "       [-0.03315126],\n",
       "       [ 0.09403057],\n",
       "       [ 0.03582872],\n",
       "       [ 0.03151747],\n",
       "       [-0.06548562],\n",
       "       [-0.04177375],\n",
       "       [-0.03961813],\n",
       "       [-0.03854032],\n",
       "       [-0.02560657],\n",
       "       [-0.02345095],\n",
       "       [-0.06656343],\n",
       "       [ 0.03259528],\n",
       "       [-0.046085  ],\n",
       "       [-0.02991782],\n",
       "       [-0.01267283],\n",
       "       [-0.01590626],\n",
       "       [ 0.07139652],\n",
       "       [-0.03099563],\n",
       "       [ 0.00026092],\n",
       "       [ 0.03690653],\n",
       "       [ 0.03906215],\n",
       "       [-0.01482845],\n",
       "       [ 0.00672779],\n",
       "       [-0.06871905],\n",
       "       [-0.00943939],\n",
       "       [ 0.01966154],\n",
       "       [ 0.07462995],\n",
       "       [-0.00836158],\n",
       "       [-0.02345095],\n",
       "       [-0.046085  ],\n",
       "       [ 0.05415152],\n",
       "       [-0.03530688],\n",
       "       [-0.03207344],\n",
       "       [-0.0816528 ],\n",
       "       [ 0.04768465],\n",
       "       [ 0.06061839],\n",
       "       [ 0.05630715],\n",
       "       [ 0.09834182],\n",
       "       [ 0.05954058],\n",
       "       [ 0.03367309],\n",
       "       [ 0.05630715],\n",
       "       [-0.06548562],\n",
       "       [ 0.16085492],\n",
       "       [-0.05578531],\n",
       "       [-0.02452876],\n",
       "       [-0.03638469],\n",
       "       [-0.00836158],\n",
       "       [-0.04177375],\n",
       "       [ 0.12744274],\n",
       "       [-0.07734155],\n",
       "       [ 0.02828403],\n",
       "       [-0.02560657],\n",
       "       [-0.06225218],\n",
       "       [-0.00081689],\n",
       "       [ 0.08864151],\n",
       "       [-0.03207344],\n",
       "       [ 0.03043966],\n",
       "       [ 0.00888341],\n",
       "       [ 0.00672779],\n",
       "       [-0.02021751],\n",
       "       [-0.02452876],\n",
       "       [-0.01159501],\n",
       "       [ 0.02612841],\n",
       "       [-0.05901875],\n",
       "       [-0.03638469],\n",
       "       [-0.02452876],\n",
       "       [ 0.01858372],\n",
       "       [-0.0902753 ],\n",
       "       [-0.00512814],\n",
       "       [-0.05255187],\n",
       "       [-0.02237314],\n",
       "       [-0.02021751],\n",
       "       [-0.0547075 ],\n",
       "       [-0.00620595],\n",
       "       [-0.01698407],\n",
       "       [ 0.05522933],\n",
       "       [ 0.07678558],\n",
       "       [ 0.01858372],\n",
       "       [-0.02237314],\n",
       "       [ 0.09295276],\n",
       "       [-0.03099563],\n",
       "       [ 0.03906215],\n",
       "       [-0.06117437],\n",
       "       [-0.00836158],\n",
       "       [-0.0374625 ],\n",
       "       [-0.01375064],\n",
       "       [ 0.07355214],\n",
       "       [-0.02452876],\n",
       "       [ 0.03367309],\n",
       "       [ 0.0347509 ],\n",
       "       [-0.03854032],\n",
       "       [-0.03961813],\n",
       "       [-0.00189471],\n",
       "       [-0.03099563],\n",
       "       [-0.046085  ],\n",
       "       [ 0.00133873],\n",
       "       [ 0.06492964],\n",
       "       [ 0.04013997],\n",
       "       [-0.02345095],\n",
       "       [ 0.05307371],\n",
       "       [ 0.04013997],\n",
       "       [-0.02021751],\n",
       "       [ 0.01427248],\n",
       "       [-0.03422907],\n",
       "       [ 0.00672779],\n",
       "       [ 0.00457217],\n",
       "       [ 0.03043966],\n",
       "       [ 0.0519959 ],\n",
       "       [ 0.06169621],\n",
       "       [-0.00728377],\n",
       "       [ 0.00564998],\n",
       "       [ 0.05415152],\n",
       "       [-0.00836158],\n",
       "       [ 0.114509  ],\n",
       "       [ 0.06708527],\n",
       "       [-0.05578531],\n",
       "       [ 0.03043966],\n",
       "       [-0.02560657],\n",
       "       [ 0.10480869],\n",
       "       [-0.00620595],\n",
       "       [-0.04716281],\n",
       "       [-0.04824063],\n",
       "       [ 0.08540807],\n",
       "       [-0.01267283],\n",
       "       [-0.03315126],\n",
       "       [-0.00728377],\n",
       "       [-0.01375064],\n",
       "       [ 0.05954058],\n",
       "       [ 0.02181716],\n",
       "       [ 0.01858372],\n",
       "       [-0.01159501],\n",
       "       [-0.00297252],\n",
       "       [ 0.01750591],\n",
       "       [-0.02991782],\n",
       "       [-0.02021751],\n",
       "       [-0.05794093],\n",
       "       [ 0.06061839],\n",
       "       [-0.04069594],\n",
       "       [-0.07195249],\n",
       "       [-0.05578531],\n",
       "       [ 0.04552903],\n",
       "       [-0.00943939],\n",
       "       [-0.03315126],\n",
       "       [ 0.04984027],\n",
       "       [-0.08488624],\n",
       "       [ 0.00564998],\n",
       "       [ 0.02073935],\n",
       "       [-0.00728377],\n",
       "       [ 0.10480869],\n",
       "       [-0.02452876],\n",
       "       [-0.00620595],\n",
       "       [-0.03854032],\n",
       "       [ 0.13714305],\n",
       "       [ 0.17055523],\n",
       "       [ 0.00241654],\n",
       "       [ 0.03798434],\n",
       "       [-0.05794093],\n",
       "       [-0.00943939],\n",
       "       [-0.02345095],\n",
       "       [-0.0105172 ],\n",
       "       [-0.03422907],\n",
       "       [-0.00297252],\n",
       "       [ 0.06816308],\n",
       "       [ 0.00996123],\n",
       "       [ 0.00241654],\n",
       "       [-0.03854032],\n",
       "       [ 0.02612841],\n",
       "       [-0.08919748],\n",
       "       [ 0.06061839],\n",
       "       [-0.02884001],\n",
       "       [-0.02991782],\n",
       "       [-0.0191397 ],\n",
       "       [-0.04069594],\n",
       "       [ 0.01535029],\n",
       "       [-0.02452876],\n",
       "       [ 0.00133873],\n",
       "       [ 0.06924089],\n",
       "       [-0.06979687],\n",
       "       [-0.02991782],\n",
       "       [-0.046085  ],\n",
       "       [ 0.01858372],\n",
       "       [ 0.00133873],\n",
       "       [-0.03099563],\n",
       "       [-0.00405033],\n",
       "       [ 0.01535029],\n",
       "       [ 0.02289497],\n",
       "       [ 0.04552903],\n",
       "       [-0.04500719],\n",
       "       [-0.03315126],\n",
       "       [ 0.097264  ],\n",
       "       [ 0.05415152],\n",
       "       [ 0.12313149],\n",
       "       [-0.08057499],\n",
       "       [ 0.09295276],\n",
       "       [-0.05039625],\n",
       "       [-0.01159501],\n",
       "       [-0.0277622 ],\n",
       "       [ 0.05846277],\n",
       "       [ 0.08540807],\n",
       "       [-0.00081689],\n",
       "       [ 0.00672779],\n",
       "       [ 0.00888341],\n",
       "       [ 0.08001901],\n",
       "       [ 0.07139652],\n",
       "       [-0.02452876],\n",
       "       [-0.0547075 ],\n",
       "       [-0.03638469],\n",
       "       [ 0.0164281 ],\n",
       "       [ 0.07786339],\n",
       "       [-0.03961813],\n",
       "       [ 0.01103904],\n",
       "       [-0.04069594],\n",
       "       [-0.03422907],\n",
       "       [ 0.00564998],\n",
       "       [ 0.08864151],\n",
       "       [-0.03315126],\n",
       "       [-0.05686312],\n",
       "       [-0.03099563],\n",
       "       [ 0.05522933],\n",
       "       [-0.06009656],\n",
       "       [ 0.00133873],\n",
       "       [-0.02345095],\n",
       "       [-0.07410811],\n",
       "       [ 0.01966154],\n",
       "       [-0.01590626],\n",
       "       [-0.01590626],\n",
       "       [ 0.03906215],\n",
       "       [-0.0730303 ]])"
      ]
     },
     "execution_count": 36,
     "metadata": {},
     "output_type": "execute_result"
    }
   ],
   "source": [
    "diabetes_x = diabetes.data[:, np.newaxis, 2]\n",
    "diabetes_x"
   ]
  },
  {
   "cell_type": "code",
   "execution_count": 37,
   "id": "3633f52b",
   "metadata": {},
   "outputs": [],
   "source": [
    "diabetes_x_train = diabetes_x[:-30]"
   ]
  },
  {
   "cell_type": "code",
   "execution_count": 38,
   "id": "a3818dd1",
   "metadata": {},
   "outputs": [],
   "source": [
    "diabetes_x_test = diabetes_x[-30:]"
   ]
  },
  {
   "cell_type": "code",
   "execution_count": 39,
   "id": "b6073a1b",
   "metadata": {},
   "outputs": [],
   "source": [
    "diabetes_y_train = diabetes.target[:-30]"
   ]
  },
  {
   "cell_type": "code",
   "execution_count": 40,
   "id": "4014d089",
   "metadata": {},
   "outputs": [],
   "source": [
    "diabetes_y_test = diabetes.target[-30:]"
   ]
  },
  {
   "cell_type": "code",
   "execution_count": 41,
   "id": "f592560f",
   "metadata": {},
   "outputs": [],
   "source": [
    "model =  linear_model.LinearRegression()\n"
   ]
  },
  {
   "cell_type": "code",
   "execution_count": 43,
   "id": "58947670",
   "metadata": {},
   "outputs": [
    {
     "name": "stdout",
     "output_type": "stream",
     "text": [
      "Mean Squared error is  3035.0601152912695\n"
     ]
    }
   ],
   "source": [
    "model.fit(diabetes_x_train, diabetes_y_train)\n",
    "diabetes_y_predicted =model.predict(diabetes_x_test)\n",
    "print('Mean Squared error is ', mean_squared_error(diabetes_y_test, diabetes_y_predicted))"
   ]
  },
  {
   "cell_type": "code",
   "execution_count": 45,
   "id": "35e35faf",
   "metadata": {},
   "outputs": [
    {
     "data": {
      "image/png": "[encoded data removed]",
      "text/plain": [
       "<Figure size 432x288 with 1 Axes>"
      ]
     },
     "metadata": {
      "needs_background": "light"
     },
     "output_type": "display_data"
    }
   ],
   "source": [
    "plt.scatter(diabetes_x_test, diabetes_y_test)\n",
    "plt.show()"
   ]
  },
  {
   "cell_type": "code",
   "execution_count": null,
   "id": "38e93647",
   "metadata": {},
   "outputs": [],
   "source": []
  }
 ],
 "metadata": {
  "kernelspec": {
   "display_name": "Python 3 (ipykernel)",
   "language": "python",
   "name": "python3"
  },
  "language_info": {
   "codemirror_mode": {
    "name": "ipython",
    "version": 3
   },
   "file_extension": ".py",
   "mimetype": "text/x-python",
   "name": "python",
   "nbconvert_exporter": "python",
   "pygments_lexer": "ipython3",
   "version": "3.9.12"
  }
 },
 "nbformat": 4,
 "nbformat_minor": 5
}
